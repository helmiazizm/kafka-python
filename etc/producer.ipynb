{
 "cells": [
  {
   "cell_type": "code",
   "execution_count": 104,
   "metadata": {},
   "outputs": [],
   "source": [
    "from kafka import KafkaProducer\n",
    "import json, csv\n",
    "\n",
    "file_csv = 'new_data.csv'"
   ]
  },
  {
   "cell_type": "code",
   "execution_count": 105,
   "metadata": {},
   "outputs": [],
   "source": [
    "producer = KafkaProducer(\n",
    "    bootstrap_servers='localhost:9092',\n",
    "    value_serializer=lambda v: json.dumps(v).encode('utf-8')\n",
    ")"
   ]
  },
  {
   "cell_type": "code",
   "execution_count": 106,
   "metadata": {},
   "outputs": [],
   "source": [
    "with open(file_csv) as csvFile:\n",
    "    csvReader = csv.DictReader(csvFile)\n",
    "    for rows in csvReader:\n",
    "        producer.send('animals', rows)"
   ]
  },
  {
   "cell_type": "code",
   "execution_count": 8,
   "metadata": {},
   "outputs": [
    {
     "name": "stdout",
     "output_type": "stream",
     "text": [
      "<class 'dict'> {'cif_id': 11111, 'fullname': 'Susi Susanti', 'dob': '15-07-1993', 'phone': 8782666330, 'ktp': 3766998768330004, 'email': 'susi_susanti@gmail.com', 'address': 'Jl. Bulutangkis No.7 RT. 003 RW. 006 Kel. Jomblang Kec. Candisari Sidoarjo'}\n",
      "<class 'dict'> {'cif_id': 11112, 'fullname': 'Dr. Rudi Hartono', 'dob': '22-10-1990', 'phone': 87650998431, 'ktp': 3232423111112463, 'email': 'hartono.rudi@yahoo.co.id', 'address': 'Jl. Harimau No.9 RT. 001 RW 002 Kel. Sukamaju Kec. Sugiasih Jombang'}\n",
      "<class 'dict'> {'cif_id': 11113, 'fullname': 'Rani Natalia', 'dob': '17-08-1985', 'phone': 851993455690, 'ktp': 3655749872900002, 'email': 'rani.natalia@gmail.com', 'address': 'Jl. Mawar No.2 RT. 017 RW 005 Kel. Cinere Kec. Cinere Depok'}\n"
     ]
    }
   ],
   "source": [
    "import pandas as pd\n",
    "import json\n",
    "\n",
    "data = pd.read_csv('new_data.csv')\n",
    "data = data.to_json(orient='records')\n",
    "data = json.loads(data)\n",
    "\n",
    "for i in data:\n",
    "    print(type(i), i)"
   ]
  },
  {
   "cell_type": "code",
   "execution_count": 9,
   "metadata": {},
   "outputs": [
    {
     "name": "stdout",
     "output_type": "stream",
     "text": [
      "<class 'dict'> {'cif_id': '11111', 'fullname': 'Susi Susanti', 'dob': '15-07-1993', 'phone': '08782666330', 'ktp': '3766998768330004', 'email': 'susi_susanti@gmail.com', 'address': 'Jl. Bulutangkis No.7 RT. 003 RW. 006 Kel. Jomblang Kec. Candisari Sidoarjo'}\n",
      "<class 'dict'> {'cif_id': '11112', 'fullname': 'Dr. Rudi Hartono', 'dob': '22-10-1990', 'phone': '087650998431', 'ktp': '3232423111112463', 'email': 'hartono.rudi@yahoo.co.id', 'address': 'Jl. Harimau No.9 RT. 001 RW 002 Kel. Sukamaju Kec. Sugiasih Jombang'}\n",
      "<class 'dict'> {'cif_id': '11113', 'fullname': 'Rani Natalia', 'dob': '17-08-1985', 'phone': '0851993455690', 'ktp': '3655749872900002', 'email': 'rani.natalia@gmail.com', 'address': 'Jl. Mawar No.2 RT. 017 RW 005 Kel. Cinere Kec. Cinere Depok'}\n"
     ]
    }
   ],
   "source": [
    "import csv\n",
    "\n",
    "with open('new_data.csv') as csvFile:\n",
    "    csvReader = csv.DictReader(csvFile)\n",
    "    for i in csvReader:\n",
    "        print(type(i), i)"
   ]
  },
  {
   "cell_type": "code",
   "execution_count": 10,
   "metadata": {},
   "outputs": [
    {
     "name": "stdout",
     "output_type": "stream",
     "text": [
      "['localhost:9092', 'localhost:9093', 'localhost:9094']\n"
     ]
    }
   ],
   "source": [
    "host = 'localhost'\n",
    "ports = '9092,9093,9094'\n",
    "ports = list(ports.split(','))\n",
    "servers = [host + \":\" + port for port in ports]\n",
    "# lists = ['bruh' + i for i in lists]\n",
    "print(servers)"
   ]
  }
 ],
 "metadata": {
  "interpreter": {
   "hash": "916dbcbb3f70747c44a77c7bcd40155683ae19c65e1c03b4aa3499c5328201f1"
  },
  "kernelspec": {
   "display_name": "Python 3.8.10 64-bit",
   "language": "python",
   "name": "python3"
  },
  "language_info": {
   "codemirror_mode": {
    "name": "ipython",
    "version": 3
   },
   "file_extension": ".py",
   "mimetype": "text/x-python",
   "name": "python",
   "nbconvert_exporter": "python",
   "pygments_lexer": "ipython3",
   "version": "3.8.10"
  },
  "orig_nbformat": 4
 },
 "nbformat": 4,
 "nbformat_minor": 2
}
